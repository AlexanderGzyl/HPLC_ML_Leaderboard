{
 "cells": [
  {
   "cell_type": "code",
   "execution_count": null,
   "id": "240efea5",
   "metadata": {},
   "outputs": [],
   "source": [
    "# Compare enantiomer retention time differences\n",
    "# are there structures that result in a greater difference?(size,shape, electronic) Pay attention to experimental parameters"
   ]
  },
  {
   "cell_type": "code",
   "execution_count": null,
   "id": "5e442bfb",
   "metadata": {},
   "outputs": [],
   "source": [
    "# filter for enantiomer pairs and split enantiomer pairs"
   ]
  },
  {
   "cell_type": "code",
   "execution_count": null,
   "id": "2d893504",
   "metadata": {},
   "outputs": [],
   "source": [
    "# are there trends based on structural data that leads to greater retention time difference controlling for experimental details?"
   ]
  },
  {
   "cell_type": "code",
   "execution_count": null,
   "id": "c61ec2a4",
   "metadata": {},
   "outputs": [],
   "source": [
    "# how does the experimental data effect the RT times"
   ]
  },
  {
   "cell_type": "code",
   "execution_count": null,
   "id": "9ce229dc",
   "metadata": {},
   "outputs": [],
   "source": [
    "# https://onlinelibrary.wiley.com/doi/abs/10.1002/(SICI)1520-636X(1997)9:2%3C99::AID-CHIR3%3E3.0.CO;2-B\n",
    "# https://www.sciencedirect.com/science/article/abs/pii/S002196730000532X\n",
    "# https://www.sciencedirect.com/science/article/abs/pii/S1570023208005382\n"
   ]
  }
 ],
 "metadata": {
  "language_info": {
   "name": "python"
  }
 },
 "nbformat": 4,
 "nbformat_minor": 5
}
